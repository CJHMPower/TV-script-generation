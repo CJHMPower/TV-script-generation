{
 "cells": [
  {
   "cell_type": "markdown",
   "metadata": {
    "deletable": true,
    "editable": true
   },
   "source": [
    "# TV Script Generation\n",
    "In this project, you'll generate your own [Simpsons](https://en.wikipedia.org/wiki/The_Simpsons) TV scripts using RNNs.  You'll be using part of the [Simpsons dataset](https://www.kaggle.com/wcukierski/the-simpsons-by-the-data) of scripts from 27 seasons.  The Neural Network you'll build will generate a new TV script for a scene at [Moe's Tavern](https://simpsonswiki.com/wiki/Moe's_Tavern).\n",
    "## Get the Data\n",
    "The data is already provided for you.  You'll be using a subset of the original dataset.  It consists of only the scenes in Moe's Tavern.  This doesn't include other versions of the tavern, like \"Moe's Cavern\", \"Flaming Moe's\", \"Uncle Moe's Family Feed-Bag\", etc.."
   ]
  },
  {
   "cell_type": "code",
   "execution_count": 27,
   "metadata": {
    "collapsed": false,
    "deletable": true,
    "editable": true
   },
   "outputs": [],
   "source": [
    "\"\"\"\n",
    "DON'T MODIFY ANYTHING IN THIS CELL\n",
    "\"\"\"\n",
    "import helper\n",
    "\n",
    "data_dir = './data/simpsons/moes_tavern_lines.txt'\n",
    "text = helper.load_data(data_dir)\n",
    "# Ignore notice, since we don't use it for analysing the data\n",
    "text = text[81:]"
   ]
  },
  {
   "cell_type": "markdown",
   "metadata": {
    "deletable": true,
    "editable": true
   },
   "source": [
    "## Explore the Data\n",
    "Play around with `view_sentence_range` to view different parts of the data."
   ]
  },
  {
   "cell_type": "code",
   "execution_count": 28,
   "metadata": {
    "collapsed": false,
    "deletable": true,
    "editable": true
   },
   "outputs": [
    {
     "name": "stdout",
     "output_type": "stream",
     "text": [
      "Dataset Stats\n",
      "Roughly the number of unique words: 11492\n",
      "Number of scenes: 262\n",
      "Average number of sentences in each scene: 15.248091603053435\n",
      "Number of lines: 4257\n",
      "Average number of words in each line: 11.50434578341555\n",
      "\n",
      "The sentences 0 to 10:\n",
      "Moe_Szyslak: (INTO PHONE) Moe's Tavern. Where the elite meet to drink.\n",
      "Bart_Simpson: Eh, yeah, hello, is Mike there? Last name, Rotch.\n",
      "Moe_Szyslak: (INTO PHONE) Hold on, I'll check. (TO BARFLIES) Mike Rotch. Mike Rotch. Hey, has anybody seen Mike Rotch, lately?\n",
      "Moe_Szyslak: (INTO PHONE) Listen you little puke. One of these days I'm gonna catch you, and I'm gonna carve my name on your back with an ice pick.\n",
      "Moe_Szyslak: What's the matter Homer? You're not your normal effervescent self.\n",
      "Homer_Simpson: I got my problems, Moe. Give me another one.\n",
      "Moe_Szyslak: Homer, hey, you should not drink to forget your problems.\n",
      "Barney_Gumble: Yeah, you should only drink to enhance your social skills.\n",
      "\n",
      "\n"
     ]
    }
   ],
   "source": [
    "view_sentence_range = (0, 10)\n",
    "\n",
    "\"\"\"\n",
    "DON'T MODIFY ANYTHING IN THIS CELL\n",
    "\"\"\"\n",
    "import numpy as np\n",
    "\n",
    "print('Dataset Stats')\n",
    "print('Roughly the number of unique words: {}'.format(len({word: None for word in text.split()})))\n",
    "scenes = text.split('\\n\\n')\n",
    "print('Number of scenes: {}'.format(len(scenes)))\n",
    "sentence_count_scene = [scene.count('\\n') for scene in scenes]\n",
    "print('Average number of sentences in each scene: {}'.format(np.average(sentence_count_scene)))\n",
    "\n",
    "sentences = [sentence for scene in scenes for sentence in scene.split('\\n')]\n",
    "print('Number of lines: {}'.format(len(sentences)))\n",
    "word_count_sentence = [len(sentence.split()) for sentence in sentences]\n",
    "print('Average number of words in each line: {}'.format(np.average(word_count_sentence)))\n",
    "\n",
    "print()\n",
    "print('The sentences {} to {}:'.format(*view_sentence_range))\n",
    "print('\\n'.join(text.split('\\n')[view_sentence_range[0]:view_sentence_range[1]]))"
   ]
  },
  {
   "cell_type": "markdown",
   "metadata": {
    "deletable": true,
    "editable": true
   },
   "source": [
    "## Implement Preprocessing Functions\n",
    "The first thing to do to any dataset is preprocessing.  Implement the following preprocessing functions below:\n",
    "- Lookup Table\n",
    "- Tokenize Punctuation\n",
    "\n",
    "### Lookup Table\n",
    "To create a word embedding, you first need to transform the words to ids.  In this function, create two dictionaries:\n",
    "- Dictionary to go from the words to an id, we'll call `vocab_to_int`\n",
    "- Dictionary to go from the id to word, we'll call `int_to_vocab`\n",
    "\n",
    "Return these dictionaries in the following tuple `(vocab_to_int, int_to_vocab)`"
   ]
  },
  {
   "cell_type": "code",
   "execution_count": 29,
   "metadata": {
    "collapsed": false,
    "deletable": true,
    "editable": true
   },
   "outputs": [
    {
     "name": "stdout",
     "output_type": "stream",
     "text": [
      "Tests Passed\n"
     ]
    }
   ],
   "source": [
    "import numpy as np\n",
    "import problem_unittests as tests\n",
    "\n",
    "def create_lookup_tables(text):\n",
    "    \"\"\"\n",
    "    Create lookup tables for vocabulary\n",
    "    :param text: The text of tv scripts split into words\n",
    "    :return: A tuple of dicts (vocab_to_int, int_to_vocab)\n",
    "    \"\"\"\n",
    "    # TODO: Implement Function\n",
    "    words=list(set(text))\n",
    "    vocab_to_int={word:i for (i,word) in enumerate(words)}\n",
    "    int_to_vocab={vocab_to_int[word]:word for word in vocab_to_int}\n",
    "    return vocab_to_int,int_to_vocab\n",
    "\n",
    "\n",
    "\"\"\"\n",
    "DON'T MODIFY ANYTHING IN THIS CELL THAT IS BELOW THIS LINE\n",
    "\"\"\"\n",
    "tests.test_create_lookup_tables(create_lookup_tables)"
   ]
  },
  {
   "cell_type": "markdown",
   "metadata": {
    "deletable": true,
    "editable": true
   },
   "source": [
    "### Tokenize Punctuation\n",
    "We'll be splitting the script into a word array using spaces as delimiters.  However, punctuations like periods and exclamation marks make it hard for the neural network to distinguish between the word \"bye\" and \"bye!\".\n",
    "\n",
    "Implement the function `token_lookup` to return a dict that will be used to tokenize symbols like \"!\" into \"||Exclamation_Mark||\".  Create a dictionary for the following symbols where the symbol is the key and value is the token:\n",
    "- Period ( . )\n",
    "- Comma ( , )\n",
    "- Quotation Mark ( \" )\n",
    "- Semicolon ( ; )\n",
    "- Exclamation mark ( ! )\n",
    "- Question mark ( ? )\n",
    "- Left Parentheses ( ( )\n",
    "- Right Parentheses ( ) )\n",
    "- Dash ( -- )\n",
    "- Return ( \\n )\n",
    "\n",
    "This dictionary will be used to token the symbols and add the delimiter (space) around it.  This separates the symbols as it's own word, making it easier for the neural network to predict on the next word. Make sure you don't use a token that could be confused as a word. Instead of using the token \"dash\", try using something like \"||dash||\"."
   ]
  },
  {
   "cell_type": "code",
   "execution_count": 30,
   "metadata": {
    "collapsed": false,
    "deletable": true,
    "editable": true
   },
   "outputs": [
    {
     "name": "stdout",
     "output_type": "stream",
     "text": [
      "Tests Passed\n"
     ]
    }
   ],
   "source": [
    "def token_lookup():\n",
    "    \"\"\"\n",
    "    Generate a dict to turn punctuation into a token.\n",
    "    :return: Tokenize dictionary where the key is the punctuation and the value is the token\n",
    "    \"\"\"\n",
    "    # TODO: Implement Function\n",
    "    \n",
    "    return {'.':'||Period||',',':'||Comma||','\"':'||Quotation_Mark||',';': '||Semicolon||','!':\n",
    "            '||Exclamation_Mark||','?':'||Question_Mark||','(':'||Left_Parentheses||',')':'||Right_Parantheses||',\n",
    "           '--':'||Dash||','\\n':'||Return||'}\n",
    "\n",
    "\"\"\"\n",
    "DON'T MODIFY ANYTHING IN THIS CELL THAT IS BELOW THIS LINE\n",
    "\"\"\"\n",
    "tests.test_tokenize(token_lookup)"
   ]
  },
  {
   "cell_type": "markdown",
   "metadata": {
    "deletable": true,
    "editable": true
   },
   "source": [
    "## Preprocess all the data and save it\n",
    "Running the code cell below will preprocess all the data and save it to file."
   ]
  },
  {
   "cell_type": "code",
   "execution_count": 31,
   "metadata": {
    "collapsed": false,
    "deletable": true,
    "editable": true
   },
   "outputs": [],
   "source": [
    "\"\"\"\n",
    "DON'T MODIFY ANYTHING IN THIS CELL\n",
    "\"\"\"\n",
    "# Preprocess Training, Validation, and Testing Data\n",
    "helper.preprocess_and_save_data(data_dir, token_lookup, create_lookup_tables)"
   ]
  },
  {
   "cell_type": "markdown",
   "metadata": {
    "deletable": true,
    "editable": true
   },
   "source": [
    "# Check Point\n",
    "This is your first checkpoint. If you ever decide to come back to this notebook or have to restart the notebook, you can start from here. The preprocessed data has been saved to disk."
   ]
  },
  {
   "cell_type": "code",
   "execution_count": 32,
   "metadata": {
    "collapsed": false,
    "deletable": true,
    "editable": true
   },
   "outputs": [],
   "source": [
    "\"\"\"\n",
    "DON'T MODIFY ANYTHING IN THIS CELL\n",
    "\"\"\"\n",
    "import helper\n",
    "import numpy as np\n",
    "import problem_unittests as tests\n",
    "\n",
    "int_text, vocab_to_int, int_to_vocab, token_dict = helper.load_preprocess()\n"
   ]
  },
  {
   "cell_type": "markdown",
   "metadata": {
    "deletable": true,
    "editable": true
   },
   "source": [
    "## Build the Neural Network\n",
    "You'll build the components necessary to build a RNN by implementing the following functions below:\n",
    "- get_inputs\n",
    "- get_init_cell\n",
    "- get_embed\n",
    "- build_rnn\n",
    "- build_nn\n",
    "- get_batches\n",
    "\n",
    "### Check the Version of TensorFlow and Access to GPU"
   ]
  },
  {
   "cell_type": "code",
   "execution_count": 33,
   "metadata": {
    "collapsed": false
   },
   "outputs": [
    {
     "name": "stdout",
     "output_type": "stream",
     "text": [
      "TensorFlow Version: 1.0.1\n",
      "Default GPU Device: /gpu:0\n"
     ]
    }
   ],
   "source": [
    "\"\"\"\n",
    "DON'T MODIFY ANYTHING IN THIS CELL\n",
    "\"\"\"\n",
    "from distutils.version import LooseVersion\n",
    "import warnings\n",
    "import tensorflow as tf\n",
    "\n",
    "# Check TensorFlow Version\n",
    "assert LooseVersion(tf.__version__) >= LooseVersion('1.0'), 'Please use TensorFlow version 1.0 or newer'\n",
    "print('TensorFlow Version: {}'.format(tf.__version__))\n",
    "\n",
    "# Check for a GPU\n",
    "if not tf.test.gpu_device_name():\n",
    "    warnings.warn('No GPU found. Please use a GPU to train your neural network.')\n",
    "else:\n",
    "    print('Default GPU Device: {}'.format(tf.test.gpu_device_name()))"
   ]
  },
  {
   "cell_type": "markdown",
   "metadata": {},
   "source": [
    "### Input\n",
    "Implement the `get_inputs()` function to create TF Placeholders for the Neural Network.  It should create the following placeholders:\n",
    "- Input text placeholder named \"input\" using the [TF Placeholder](https://www.tensorflow.org/api_docs/python/tf/placeholder) `name` parameter.\n",
    "- Targets placeholder\n",
    "- Learning Rate placeholder\n",
    "\n",
    "Return the placeholders in the following the tuple `(Input, Targets, LearingRate)`"
   ]
  },
  {
   "cell_type": "code",
   "execution_count": 34,
   "metadata": {
    "collapsed": false,
    "deletable": true,
    "editable": true
   },
   "outputs": [
    {
     "name": "stdout",
     "output_type": "stream",
     "text": [
      "Tests Passed\n"
     ]
    }
   ],
   "source": [
    "def get_inputs():\n",
    "    \"\"\"\n",
    "    Create TF Placeholders for input, targets, and learning rate.\n",
    "    :return: Tuple (input, targets, learning rate)\n",
    "    \"\"\"\n",
    "    # TODO: Implement Function\n",
    "    input=tf.placeholder(tf.int32,shape=(None,None),name='input')\n",
    "    targets=tf.placeholder(tf.int32,shape=(None,None),name='targets')\n",
    "    learning_rate=tf.placeholder(tf.float32,name='learning_rate')\n",
    "    return input,targets,learning_rate\n",
    "\n",
    "\n",
    "\"\"\"\n",
    "DON'T MODIFY ANYTHING IN THIS CELL THAT IS BELOW THIS LINE\n",
    "\"\"\"\n",
    "tests.test_get_inputs(get_inputs)"
   ]
  },
  {
   "cell_type": "markdown",
   "metadata": {
    "deletable": true,
    "editable": true
   },
   "source": [
    "### Build RNN Cell and Initialize\n",
    "Stack one or more [`BasicLSTMCells`](https://www.tensorflow.org/api_docs/python/tf/contrib/rnn/BasicLSTMCell) in a [`MultiRNNCell`](https://www.tensorflow.org/api_docs/python/tf/contrib/rnn/MultiRNNCell).\n",
    "- The Rnn size should be set using `rnn_size`\n",
    "- Initalize Cell State using the MultiRNNCell's [`zero_state()`](https://www.tensorflow.org/api_docs/python/tf/contrib/rnn/MultiRNNCell#zero_state) function\n",
    "    - Apply the name \"initial_state\" to the initial state using [`tf.identity()`](https://www.tensorflow.org/api_docs/python/tf/identity)\n",
    "\n",
    "Return the cell and initial state in the following tuple `(Cell, InitialState)`"
   ]
  },
  {
   "cell_type": "code",
   "execution_count": 35,
   "metadata": {
    "collapsed": false,
    "deletable": true,
    "editable": true
   },
   "outputs": [
    {
     "name": "stdout",
     "output_type": "stream",
     "text": [
      "Tests Passed\n"
     ]
    }
   ],
   "source": [
    "def get_init_cell(batch_size, rnn_size):\n",
    "    \"\"\"\n",
    "    Create an RNN Cell and initialize it.\n",
    "    :param batch_size: Size of batches\n",
    "    :param rnn_size: Size of RNNs\n",
    "    :return: Tuple (cell, initialize state)\n",
    "    \"\"\"\n",
    "    # TODO: Implement Function\n",
    "    cell=tf.contrib.rnn.MultiRNNCell([tf.contrib.rnn.BasicLSTMCell(rnn_size)])\n",
    "    initial_state=tf.identity(cell.zero_state(batch_size,tf.float32),'initial_state')\n",
    "    return cell,initial_state\n",
    "\n",
    "\n",
    "\"\"\"\n",
    "DON'T MODIFY ANYTHING IN THIS CELL THAT IS BELOW THIS LINE\n",
    "\"\"\"\n",
    "tests.test_get_init_cell(get_init_cell)"
   ]
  },
  {
   "cell_type": "markdown",
   "metadata": {
    "deletable": true,
    "editable": true
   },
   "source": [
    "### Word Embedding\n",
    "Apply embedding to `input_data` using TensorFlow.  Return the embedded sequence."
   ]
  },
  {
   "cell_type": "code",
   "execution_count": 36,
   "metadata": {
    "collapsed": false,
    "deletable": true,
    "editable": true
   },
   "outputs": [
    {
     "name": "stdout",
     "output_type": "stream",
     "text": [
      "Tests Passed\n"
     ]
    }
   ],
   "source": [
    "def get_embed(input_data, vocab_size, embed_dim):\n",
    "    \"\"\"\n",
    "    Create embedding for <input_data>.\n",
    "    :param input_data: TF placeholder for text input.\n",
    "    :param vocab_size: Number of words in vocabulary.\n",
    "    :param embed_dim: Number of embedding dimensions\n",
    "    :return: Embedded input.\n",
    "    \"\"\"\n",
    "    # TODO: Implement Function\n",
    "    embeddings=tf.Variable(tf.random_uniform([vocab_size, embed_dim], -1.0, 1.0))\n",
    "    embed=tf.nn.embedding_lookup(embeddings,input_data)\n",
    "    return embed\n",
    "\n",
    "\n",
    "\"\"\"\n",
    "DON'T MODIFY ANYTHING IN THIS CELL THAT IS BELOW THIS LINE\n",
    "\"\"\"\n",
    "tests.test_get_embed(get_embed)"
   ]
  },
  {
   "cell_type": "markdown",
   "metadata": {
    "deletable": true,
    "editable": true
   },
   "source": [
    "### Build RNN\n",
    "You created a RNN Cell in the `get_init_cell()` function.  Time to use the cell to create a RNN.\n",
    "- Build the RNN using the [`tf.nn.dynamic_rnn()`](https://www.tensorflow.org/api_docs/python/tf/nn/dynamic_rnn)\n",
    " - Apply the name \"final_state\" to the final state using [`tf.identity()`](https://www.tensorflow.org/api_docs/python/tf/identity)\n",
    "\n",
    "Return the outputs and final_state state in the following tuple `(Outputs, FinalState)` "
   ]
  },
  {
   "cell_type": "code",
   "execution_count": 37,
   "metadata": {
    "collapsed": false,
    "deletable": true,
    "editable": true
   },
   "outputs": [
    {
     "name": "stdout",
     "output_type": "stream",
     "text": [
      "Tests Passed\n"
     ]
    }
   ],
   "source": [
    "def build_rnn(cell, inputs):\n",
    "    \"\"\"\n",
    "    Create a RNN using a RNN Cell\n",
    "    :param cell: RNN Cell\n",
    "    :param inputs: Input text data\n",
    "    :return: Tuple (Outputs, Final State)\n",
    "    \"\"\"\n",
    "    # TODO: Implement Function\n",
    "    outputs,state=tf.nn.dynamic_rnn(cell,inputs,dtype=tf.float32)\n",
    "    final_state=tf.identity(state,'final_state')\n",
    "    return outputs, final_state\n",
    "\n",
    "\n",
    "\"\"\"\n",
    "DON'T MODIFY ANYTHING IN THIS CELL THAT IS BELOW THIS LINE\n",
    "\"\"\"\n",
    "tests.test_build_rnn(build_rnn)"
   ]
  },
  {
   "cell_type": "markdown",
   "metadata": {
    "deletable": true,
    "editable": true
   },
   "source": [
    "### Build the Neural Network\n",
    "Apply the functions you implemented above to:\n",
    "- Apply embedding to `input_data` using your `get_embed(input_data, vocab_size, embed_dim)` function.\n",
    "- Build RNN using `cell` and your `build_rnn(cell, inputs)` function.\n",
    "- Apply a fully connected layer with a linear activation and `vocab_size` as the number of outputs.\n",
    "\n",
    "Return the logits and final state in the following tuple (Logits, FinalState) "
   ]
  },
  {
   "cell_type": "code",
   "execution_count": 38,
   "metadata": {
    "collapsed": false,
    "deletable": true,
    "editable": true
   },
   "outputs": [
    {
     "name": "stdout",
     "output_type": "stream",
     "text": [
      "Tests Passed\n"
     ]
    }
   ],
   "source": [
    "def build_nn(cell, rnn_size, input_data, vocab_size):\n",
    "    \"\"\"\n",
    "    Build part of the neural network\n",
    "    :param cell: RNN cell\n",
    "    :param rnn_size: Size of rnns\n",
    "    :param input_data: Input data\n",
    "    :param vocab_size: Vocabulary size\n",
    "    :return: Tuple (Logits, FinalState)\n",
    "    \"\"\"\n",
    "    # TODO: Implement Function\n",
    "    embed_dim=100\n",
    "    embed=get_embed(input_data,vocab_size,embed_dim)\n",
    "    outputs,final_state=build_rnn(cell,embed)\n",
    "    logits=tf.contrib.layers.fully_connected(outputs,vocab_size,activation_fn=None)\n",
    "    return logits,final_state\n",
    "\n",
    "\n",
    "\"\"\"\n",
    "DON'T MODIFY ANYTHING IN THIS CELL THAT IS BELOW THIS LINE\n",
    "\"\"\"\n",
    "tests.test_build_nn(build_nn)"
   ]
  },
  {
   "cell_type": "markdown",
   "metadata": {
    "deletable": true,
    "editable": true
   },
   "source": [
    "### Batches\n",
    "Implement `get_batches` to create batches of input and targets using `int_text`.  The batches should be a Numpy array with the shape `(number of batches, 2, batch size, sequence length)`. Each batch contains two elements:\n",
    "- The first element is a single batch of **input** with the shape `[batch size, sequence length]`\n",
    "- The second element is a single batch of **targets** with the shape `[batch size, sequence length]`\n",
    "\n",
    "If you can't fill the last batch with enough data, drop the last batch.\n",
    "\n",
    "For exmple, `get_batches([1, 2, 3, 4, 5, 6, 7, 8, 9, 10, 11, 12, 13, 14, 15], 2, 3)` would return a Numpy array of the following:\n",
    "```\n",
    "[\n",
    "  # First Batch\n",
    "  [\n",
    "    # Batch of Input\n",
    "    [[ 1  2  3], [ 7  8  9]],\n",
    "    # Batch of targets\n",
    "    [[ 2  3  4], [ 8  9 10]]\n",
    "  ],\n",
    " \n",
    "  # Second Batch\n",
    "  [\n",
    "    # Batch of Input\n",
    "    [[ 4  5  6], [10 11 12]],\n",
    "    # Batch of targets\n",
    "    [[ 5  6  7], [11 12 13]]\n",
    "  ]\n",
    "]\n",
    "```"
   ]
  },
  {
   "cell_type": "code",
   "execution_count": 39,
   "metadata": {
    "collapsed": false,
    "deletable": true,
    "editable": true
   },
   "outputs": [
    {
     "name": "stdout",
     "output_type": "stream",
     "text": [
      "Tests Passed\n"
     ]
    }
   ],
   "source": [
    "def get_batches(int_text, batch_size, seq_length):\n",
    "    \"\"\"\n",
    "    Return batches of input and target\n",
    "    :param int_text: Text with the words replaced by their ids\n",
    "    :param batch_size: The size of batch\n",
    "    :param seq_length: The length of sequence\n",
    "    :return: Batches as a Numpy array\n",
    "    \"\"\"\n",
    "    # TODO: Implement Function\n",
    "    number_of_batches=(len(int_text)-1)//(batch_size*seq_length)\n",
    "    ret=np.zeros((number_of_batches,2,batch_size,seq_length))\n",
    "    for i in range(number_of_batches):\n",
    "        for j in range(batch_size):\n",
    "            ret[i][0][j]=int_text[seq_length*(number_of_batches*j+i):seq_length*(number_of_batches*j+i+1)]\n",
    "            ret[i][1][j]=int_text[1+seq_length*(number_of_batches*j+i):1+seq_length*(number_of_batches*j+i+1)]\n",
    "    return ret\n",
    "\n",
    "\n",
    "\"\"\"\n",
    "DON'T MODIFY ANYTHING IN THIS CELL THAT IS BELOW THIS LINE\n",
    "\"\"\"\n",
    "tests.test_get_batches(get_batches)"
   ]
  },
  {
   "cell_type": "markdown",
   "metadata": {
    "deletable": true,
    "editable": true
   },
   "source": [
    "## Neural Network Training\n",
    "### Hyperparameters\n",
    "Tune the following parameters:\n",
    "\n",
    "- Set `num_epochs` to the number of epochs.\n",
    "- Set `batch_size` to the batch size.\n",
    "- Set `rnn_size` to the size of the RNNs.\n",
    "- Set `seq_length` to the length of sequence.\n",
    "- Set `learning_rate` to the learning rate.\n",
    "- Set `show_every_n_batches` to the number of batches the neural network should print progress."
   ]
  },
  {
   "cell_type": "code",
   "execution_count": 40,
   "metadata": {
    "collapsed": true,
    "deletable": true,
    "editable": true
   },
   "outputs": [],
   "source": [
    "# Number of Epochs\n",
    "num_epochs = 80\n",
    "# Batch Size\n",
    "batch_size = 128\n",
    "# RNN Size\n",
    "rnn_size = 128\n",
    "# Sequence Length\n",
    "seq_length = 12\n",
    "# Learning Rate\n",
    "learning_rate = 1e-2\n",
    "# Show stats for every n number of batches\n",
    "show_every_n_batches = 10\n",
    "\n",
    "\"\"\"\n",
    "DON'T MODIFY ANYTHING IN THIS CELL THAT IS BELOW THIS LINE\n",
    "\"\"\"\n",
    "save_dir = './save'"
   ]
  },
  {
   "cell_type": "markdown",
   "metadata": {
    "deletable": true,
    "editable": true
   },
   "source": [
    "### Build the Graph\n",
    "Build the graph using the neural network you implemented."
   ]
  },
  {
   "cell_type": "code",
   "execution_count": 41,
   "metadata": {
    "collapsed": false,
    "deletable": true,
    "editable": true
   },
   "outputs": [],
   "source": [
    "\"\"\"\n",
    "DON'T MODIFY ANYTHING IN THIS CELL\n",
    "\"\"\"\n",
    "from tensorflow.contrib import seq2seq\n",
    "\n",
    "train_graph = tf.Graph()\n",
    "with train_graph.as_default():\n",
    "    vocab_size = len(int_to_vocab)\n",
    "    input_text, targets, lr = get_inputs()\n",
    "    input_data_shape = tf.shape(input_text)\n",
    "    cell, initial_state = get_init_cell(input_data_shape[0], rnn_size)\n",
    "    logits, final_state = build_nn(cell, rnn_size, input_text, vocab_size)\n",
    "\n",
    "    # Probabilities for generating words\n",
    "    probs = tf.nn.softmax(logits, name='probs')\n",
    "\n",
    "    # Loss function\n",
    "    cost = seq2seq.sequence_loss(\n",
    "        logits,\n",
    "        targets,\n",
    "        tf.ones([input_data_shape[0], input_data_shape[1]]))\n",
    "\n",
    "    # Optimizer\n",
    "    optimizer = tf.train.AdamOptimizer(lr)\n",
    "\n",
    "    # Gradient Clipping\n",
    "    gradients = optimizer.compute_gradients(cost)\n",
    "    capped_gradients = [(tf.clip_by_value(grad, -1., 1.), var) for grad, var in gradients]\n",
    "    train_op = optimizer.apply_gradients(capped_gradients)"
   ]
  },
  {
   "cell_type": "markdown",
   "metadata": {
    "deletable": true,
    "editable": true
   },
   "source": [
    "## Train\n",
    "Train the neural network on the preprocessed data.  If you have a hard time getting a good loss, check the [forms](https://discussions.udacity.com/) to see if anyone is having the same problem."
   ]
  },
  {
   "cell_type": "code",
   "execution_count": 42,
   "metadata": {
    "collapsed": false,
    "deletable": true,
    "editable": true
   },
   "outputs": [
    {
     "name": "stdout",
     "output_type": "stream",
     "text": [
      "Epoch   0 Batch    0/44   train_loss = 8.821\n",
      "Epoch   0 Batch   10/44   train_loss = 6.770\n",
      "Epoch   0 Batch   20/44   train_loss = 6.164\n",
      "Epoch   0 Batch   30/44   train_loss = 5.953\n",
      "Epoch   0 Batch   40/44   train_loss = 5.672\n",
      "Epoch   1 Batch    6/44   train_loss = 5.216\n",
      "Epoch   1 Batch   16/44   train_loss = 5.309\n",
      "Epoch   1 Batch   26/44   train_loss = 5.096\n",
      "Epoch   1 Batch   36/44   train_loss = 5.088\n",
      "Epoch   2 Batch    2/44   train_loss = 4.690\n",
      "Epoch   2 Batch   12/44   train_loss = 4.746\n",
      "Epoch   2 Batch   22/44   train_loss = 4.697\n",
      "Epoch   2 Batch   32/44   train_loss = 4.630\n",
      "Epoch   2 Batch   42/44   train_loss = 4.618\n",
      "Epoch   3 Batch    8/44   train_loss = 4.480\n",
      "Epoch   3 Batch   18/44   train_loss = 4.509\n",
      "Epoch   3 Batch   28/44   train_loss = 4.421\n",
      "Epoch   3 Batch   38/44   train_loss = 4.278\n",
      "Epoch   4 Batch    4/44   train_loss = 4.174\n",
      "Epoch   4 Batch   14/44   train_loss = 4.247\n",
      "Epoch   4 Batch   24/44   train_loss = 4.154\n",
      "Epoch   4 Batch   34/44   train_loss = 4.086\n",
      "Epoch   5 Batch    0/44   train_loss = 3.858\n",
      "Epoch   5 Batch   10/44   train_loss = 4.080\n",
      "Epoch   5 Batch   20/44   train_loss = 3.851\n",
      "Epoch   5 Batch   30/44   train_loss = 3.946\n",
      "Epoch   5 Batch   40/44   train_loss = 3.828\n",
      "Epoch   6 Batch    6/44   train_loss = 3.769\n",
      "Epoch   6 Batch   16/44   train_loss = 3.749\n",
      "Epoch   6 Batch   26/44   train_loss = 3.601\n",
      "Epoch   6 Batch   36/44   train_loss = 3.731\n",
      "Epoch   7 Batch    2/44   train_loss = 3.524\n",
      "Epoch   7 Batch   12/44   train_loss = 3.562\n",
      "Epoch   7 Batch   22/44   train_loss = 3.543\n",
      "Epoch   7 Batch   32/44   train_loss = 3.422\n",
      "Epoch   7 Batch   42/44   train_loss = 3.390\n",
      "Epoch   8 Batch    8/44   train_loss = 3.451\n",
      "Epoch   8 Batch   18/44   train_loss = 3.426\n",
      "Epoch   8 Batch   28/44   train_loss = 3.292\n",
      "Epoch   8 Batch   38/44   train_loss = 3.187\n",
      "Epoch   9 Batch    4/44   train_loss = 3.209\n",
      "Epoch   9 Batch   14/44   train_loss = 3.187\n",
      "Epoch   9 Batch   24/44   train_loss = 3.141\n",
      "Epoch   9 Batch   34/44   train_loss = 3.083\n",
      "Epoch  10 Batch    0/44   train_loss = 2.998\n",
      "Epoch  10 Batch   10/44   train_loss = 3.127\n",
      "Epoch  10 Batch   20/44   train_loss = 2.985\n",
      "Epoch  10 Batch   30/44   train_loss = 3.093\n",
      "Epoch  10 Batch   40/44   train_loss = 2.992\n",
      "Epoch  11 Batch    6/44   train_loss = 2.961\n",
      "Epoch  11 Batch   16/44   train_loss = 2.995\n",
      "Epoch  11 Batch   26/44   train_loss = 2.853\n",
      "Epoch  11 Batch   36/44   train_loss = 3.031\n",
      "Epoch  12 Batch    2/44   train_loss = 2.881\n",
      "Epoch  12 Batch   12/44   train_loss = 2.913\n",
      "Epoch  12 Batch   22/44   train_loss = 2.823\n",
      "Epoch  12 Batch   32/44   train_loss = 2.796\n",
      "Epoch  12 Batch   42/44   train_loss = 2.777\n",
      "Epoch  13 Batch    8/44   train_loss = 2.792\n",
      "Epoch  13 Batch   18/44   train_loss = 2.806\n",
      "Epoch  13 Batch   28/44   train_loss = 2.673\n",
      "Epoch  13 Batch   38/44   train_loss = 2.665\n",
      "Epoch  14 Batch    4/44   train_loss = 2.694\n",
      "Epoch  14 Batch   14/44   train_loss = 2.579\n",
      "Epoch  14 Batch   24/44   train_loss = 2.556\n",
      "Epoch  14 Batch   34/44   train_loss = 2.556\n",
      "Epoch  15 Batch    0/44   train_loss = 2.531\n",
      "Epoch  15 Batch   10/44   train_loss = 2.594\n",
      "Epoch  15 Batch   20/44   train_loss = 2.454\n",
      "Epoch  15 Batch   30/44   train_loss = 2.480\n",
      "Epoch  15 Batch   40/44   train_loss = 2.506\n",
      "Epoch  16 Batch    6/44   train_loss = 2.462\n",
      "Epoch  16 Batch   16/44   train_loss = 2.503\n",
      "Epoch  16 Batch   26/44   train_loss = 2.402\n",
      "Epoch  16 Batch   36/44   train_loss = 2.492\n",
      "Epoch  17 Batch    2/44   train_loss = 2.472\n",
      "Epoch  17 Batch   12/44   train_loss = 2.491\n",
      "Epoch  17 Batch   22/44   train_loss = 2.359\n",
      "Epoch  17 Batch   32/44   train_loss = 2.378\n",
      "Epoch  17 Batch   42/44   train_loss = 2.333\n",
      "Epoch  18 Batch    8/44   train_loss = 2.319\n",
      "Epoch  18 Batch   18/44   train_loss = 2.416\n",
      "Epoch  18 Batch   28/44   train_loss = 2.207\n",
      "Epoch  18 Batch   38/44   train_loss = 2.234\n",
      "Epoch  19 Batch    4/44   train_loss = 2.279\n",
      "Epoch  19 Batch   14/44   train_loss = 2.153\n",
      "Epoch  19 Batch   24/44   train_loss = 2.147\n",
      "Epoch  19 Batch   34/44   train_loss = 2.116\n",
      "Epoch  20 Batch    0/44   train_loss = 2.147\n",
      "Epoch  20 Batch   10/44   train_loss = 2.165\n",
      "Epoch  20 Batch   20/44   train_loss = 2.112\n",
      "Epoch  20 Batch   30/44   train_loss = 2.087\n",
      "Epoch  20 Batch   40/44   train_loss = 2.138\n",
      "Epoch  21 Batch    6/44   train_loss = 2.100\n",
      "Epoch  21 Batch   16/44   train_loss = 2.122\n",
      "Epoch  21 Batch   26/44   train_loss = 2.084\n",
      "Epoch  21 Batch   36/44   train_loss = 2.106\n",
      "Epoch  22 Batch    2/44   train_loss = 2.142\n",
      "Epoch  22 Batch   12/44   train_loss = 2.117\n",
      "Epoch  22 Batch   22/44   train_loss = 2.014\n",
      "Epoch  22 Batch   32/44   train_loss = 2.032\n",
      "Epoch  22 Batch   42/44   train_loss = 2.018\n",
      "Epoch  23 Batch    8/44   train_loss = 1.998\n",
      "Epoch  23 Batch   18/44   train_loss = 2.075\n",
      "Epoch  23 Batch   28/44   train_loss = 1.935\n",
      "Epoch  23 Batch   38/44   train_loss = 1.950\n",
      "Epoch  24 Batch    4/44   train_loss = 1.982\n",
      "Epoch  24 Batch   14/44   train_loss = 1.824\n",
      "Epoch  24 Batch   24/44   train_loss = 1.873\n",
      "Epoch  24 Batch   34/44   train_loss = 1.815\n",
      "Epoch  25 Batch    0/44   train_loss = 1.858\n",
      "Epoch  25 Batch   10/44   train_loss = 1.885\n",
      "Epoch  25 Batch   20/44   train_loss = 1.823\n",
      "Epoch  25 Batch   30/44   train_loss = 1.819\n",
      "Epoch  25 Batch   40/44   train_loss = 1.804\n",
      "Epoch  26 Batch    6/44   train_loss = 1.816\n",
      "Epoch  26 Batch   16/44   train_loss = 1.852\n",
      "Epoch  26 Batch   26/44   train_loss = 1.799\n",
      "Epoch  26 Batch   36/44   train_loss = 1.796\n",
      "Epoch  27 Batch    2/44   train_loss = 1.824\n",
      "Epoch  27 Batch   12/44   train_loss = 1.852\n",
      "Epoch  27 Batch   22/44   train_loss = 1.739\n",
      "Epoch  27 Batch   32/44   train_loss = 1.770\n",
      "Epoch  27 Batch   42/44   train_loss = 1.710\n",
      "Epoch  28 Batch    8/44   train_loss = 1.727\n",
      "Epoch  28 Batch   18/44   train_loss = 1.783\n",
      "Epoch  28 Batch   28/44   train_loss = 1.624\n",
      "Epoch  28 Batch   38/44   train_loss = 1.678\n",
      "Epoch  29 Batch    4/44   train_loss = 1.702\n",
      "Epoch  29 Batch   14/44   train_loss = 1.533\n",
      "Epoch  29 Batch   24/44   train_loss = 1.600\n",
      "Epoch  29 Batch   34/44   train_loss = 1.522\n",
      "Epoch  30 Batch    0/44   train_loss = 1.566\n",
      "Epoch  30 Batch   10/44   train_loss = 1.601\n",
      "Epoch  30 Batch   20/44   train_loss = 1.543\n",
      "Epoch  30 Batch   30/44   train_loss = 1.544\n",
      "Epoch  30 Batch   40/44   train_loss = 1.561\n",
      "Epoch  31 Batch    6/44   train_loss = 1.539\n",
      "Epoch  31 Batch   16/44   train_loss = 1.590\n",
      "Epoch  31 Batch   26/44   train_loss = 1.582\n",
      "Epoch  31 Batch   36/44   train_loss = 1.541\n",
      "Epoch  32 Batch    2/44   train_loss = 1.543\n",
      "Epoch  32 Batch   12/44   train_loss = 1.613\n",
      "Epoch  32 Batch   22/44   train_loss = 1.500\n",
      "Epoch  32 Batch   32/44   train_loss = 1.567\n",
      "Epoch  32 Batch   42/44   train_loss = 1.501\n",
      "Epoch  33 Batch    8/44   train_loss = 1.468\n",
      "Epoch  33 Batch   18/44   train_loss = 1.589\n",
      "Epoch  33 Batch   28/44   train_loss = 1.421\n",
      "Epoch  33 Batch   38/44   train_loss = 1.496\n",
      "Epoch  34 Batch    4/44   train_loss = 1.440\n",
      "Epoch  34 Batch   14/44   train_loss = 1.354\n",
      "Epoch  34 Batch   24/44   train_loss = 1.422\n",
      "Epoch  34 Batch   34/44   train_loss = 1.386\n",
      "Epoch  35 Batch    0/44   train_loss = 1.388\n",
      "Epoch  35 Batch   10/44   train_loss = 1.370\n",
      "Epoch  35 Batch   20/44   train_loss = 1.403\n",
      "Epoch  35 Batch   30/44   train_loss = 1.345\n",
      "Epoch  35 Batch   40/44   train_loss = 1.415\n",
      "Epoch  36 Batch    6/44   train_loss = 1.385\n",
      "Epoch  36 Batch   16/44   train_loss = 1.417\n",
      "Epoch  36 Batch   26/44   train_loss = 1.435\n",
      "Epoch  36 Batch   36/44   train_loss = 1.426\n",
      "Epoch  37 Batch    2/44   train_loss = 1.405\n",
      "Epoch  37 Batch   12/44   train_loss = 1.437\n",
      "Epoch  37 Batch   22/44   train_loss = 1.421\n",
      "Epoch  37 Batch   32/44   train_loss = 1.404\n",
      "Epoch  37 Batch   42/44   train_loss = 1.391\n",
      "Epoch  38 Batch    8/44   train_loss = 1.362\n",
      "Epoch  38 Batch   18/44   train_loss = 1.410\n",
      "Epoch  38 Batch   28/44   train_loss = 1.343\n",
      "Epoch  38 Batch   38/44   train_loss = 1.367\n",
      "Epoch  39 Batch    4/44   train_loss = 1.282\n",
      "Epoch  39 Batch   14/44   train_loss = 1.268\n",
      "Epoch  39 Batch   24/44   train_loss = 1.317\n",
      "Epoch  39 Batch   34/44   train_loss = 1.234\n",
      "Epoch  40 Batch    0/44   train_loss = 1.299\n",
      "Epoch  40 Batch   10/44   train_loss = 1.231\n",
      "Epoch  40 Batch   20/44   train_loss = 1.295\n",
      "Epoch  40 Batch   30/44   train_loss = 1.276\n",
      "Epoch  40 Batch   40/44   train_loss = 1.296\n",
      "Epoch  41 Batch    6/44   train_loss = 1.238\n",
      "Epoch  41 Batch   16/44   train_loss = 1.266\n",
      "Epoch  41 Batch   26/44   train_loss = 1.306\n",
      "Epoch  41 Batch   36/44   train_loss = 1.304\n",
      "Epoch  42 Batch    2/44   train_loss = 1.316\n",
      "Epoch  42 Batch   12/44   train_loss = 1.316\n",
      "Epoch  42 Batch   22/44   train_loss = 1.296\n",
      "Epoch  42 Batch   32/44   train_loss = 1.321\n",
      "Epoch  42 Batch   42/44   train_loss = 1.289\n",
      "Epoch  43 Batch    8/44   train_loss = 1.216\n",
      "Epoch  43 Batch   18/44   train_loss = 1.310\n",
      "Epoch  43 Batch   28/44   train_loss = 1.206\n",
      "Epoch  43 Batch   38/44   train_loss = 1.297\n",
      "Epoch  44 Batch    4/44   train_loss = 1.205\n",
      "Epoch  44 Batch   14/44   train_loss = 1.127\n",
      "Epoch  44 Batch   24/44   train_loss = 1.233\n",
      "Epoch  44 Batch   34/44   train_loss = 1.129\n",
      "Epoch  45 Batch    0/44   train_loss = 1.208\n",
      "Epoch  45 Batch   10/44   train_loss = 1.163\n",
      "Epoch  45 Batch   20/44   train_loss = 1.152\n",
      "Epoch  45 Batch   30/44   train_loss = 1.131\n",
      "Epoch  45 Batch   40/44   train_loss = 1.198\n",
      "Epoch  46 Batch    6/44   train_loss = 1.116\n",
      "Epoch  46 Batch   16/44   train_loss = 1.200\n",
      "Epoch  46 Batch   26/44   train_loss = 1.198\n",
      "Epoch  46 Batch   36/44   train_loss = 1.198\n",
      "Epoch  47 Batch    2/44   train_loss = 1.243\n",
      "Epoch  47 Batch   12/44   train_loss = 1.230\n",
      "Epoch  47 Batch   22/44   train_loss = 1.174\n",
      "Epoch  47 Batch   32/44   train_loss = 1.227\n",
      "Epoch  47 Batch   42/44   train_loss = 1.187\n",
      "Epoch  48 Batch    8/44   train_loss = 1.125\n",
      "Epoch  48 Batch   18/44   train_loss = 1.234\n",
      "Epoch  48 Batch   28/44   train_loss = 1.126\n",
      "Epoch  48 Batch   38/44   train_loss = 1.192\n",
      "Epoch  49 Batch    4/44   train_loss = 1.142\n",
      "Epoch  49 Batch   14/44   train_loss = 1.014\n",
      "Epoch  49 Batch   24/44   train_loss = 1.149\n",
      "Epoch  49 Batch   34/44   train_loss = 1.062\n",
      "Epoch  50 Batch    0/44   train_loss = 1.141\n",
      "Epoch  50 Batch   10/44   train_loss = 1.080\n",
      "Epoch  50 Batch   20/44   train_loss = 1.077\n",
      "Epoch  50 Batch   30/44   train_loss = 1.080\n",
      "Epoch  50 Batch   40/44   train_loss = 1.143\n",
      "Epoch  51 Batch    6/44   train_loss = 1.103\n",
      "Epoch  51 Batch   16/44   train_loss = 1.099\n",
      "Epoch  51 Batch   26/44   train_loss = 1.196\n",
      "Epoch  51 Batch   36/44   train_loss = 1.139\n",
      "Epoch  52 Batch    2/44   train_loss = 1.196\n",
      "Epoch  52 Batch   12/44   train_loss = 1.167\n",
      "Epoch  52 Batch   22/44   train_loss = 1.113\n",
      "Epoch  52 Batch   32/44   train_loss = 1.216\n",
      "Epoch  52 Batch   42/44   train_loss = 1.122\n",
      "Epoch  53 Batch    8/44   train_loss = 1.101\n",
      "Epoch  53 Batch   18/44   train_loss = 1.129\n",
      "Epoch  53 Batch   28/44   train_loss = 1.084\n",
      "Epoch  53 Batch   38/44   train_loss = 1.130\n",
      "Epoch  54 Batch    4/44   train_loss = 1.048\n",
      "Epoch  54 Batch   14/44   train_loss = 0.966\n",
      "Epoch  54 Batch   24/44   train_loss = 1.044\n",
      "Epoch  54 Batch   34/44   train_loss = 1.055\n",
      "Epoch  55 Batch    0/44   train_loss = 1.054\n",
      "Epoch  55 Batch   10/44   train_loss = 1.026\n",
      "Epoch  55 Batch   20/44   train_loss = 0.997\n",
      "Epoch  55 Batch   30/44   train_loss = 1.037\n",
      "Epoch  55 Batch   40/44   train_loss = 1.031\n",
      "Epoch  56 Batch    6/44   train_loss = 0.976\n",
      "Epoch  56 Batch   16/44   train_loss = 1.049\n",
      "Epoch  56 Batch   26/44   train_loss = 1.045\n",
      "Epoch  56 Batch   36/44   train_loss = 1.085\n",
      "Epoch  57 Batch    2/44   train_loss = 1.051\n",
      "Epoch  57 Batch   12/44   train_loss = 1.106\n",
      "Epoch  57 Batch   22/44   train_loss = 0.992\n",
      "Epoch  57 Batch   32/44   train_loss = 1.089\n",
      "Epoch  57 Batch   42/44   train_loss = 1.041\n",
      "Epoch  58 Batch    8/44   train_loss = 0.979\n",
      "Epoch  58 Batch   18/44   train_loss = 1.036\n",
      "Epoch  58 Batch   28/44   train_loss = 0.937\n",
      "Epoch  58 Batch   38/44   train_loss = 1.027\n",
      "Epoch  59 Batch    4/44   train_loss = 0.952\n",
      "Epoch  59 Batch   14/44   train_loss = 0.891\n",
      "Epoch  59 Batch   24/44   train_loss = 0.947\n",
      "Epoch  59 Batch   34/44   train_loss = 0.923\n",
      "Epoch  60 Batch    0/44   train_loss = 0.992\n",
      "Epoch  60 Batch   10/44   train_loss = 0.910\n",
      "Epoch  60 Batch   20/44   train_loss = 0.914\n",
      "Epoch  60 Batch   30/44   train_loss = 0.895\n",
      "Epoch  60 Batch   40/44   train_loss = 0.965\n",
      "Epoch  61 Batch    6/44   train_loss = 0.909\n",
      "Epoch  61 Batch   16/44   train_loss = 0.972\n",
      "Epoch  61 Batch   26/44   train_loss = 0.972\n",
      "Epoch  61 Batch   36/44   train_loss = 0.970\n",
      "Epoch  62 Batch    2/44   train_loss = 1.000\n",
      "Epoch  62 Batch   12/44   train_loss = 1.000\n",
      "Epoch  62 Batch   22/44   train_loss = 0.995\n",
      "Epoch  62 Batch   32/44   train_loss = 1.017\n",
      "Epoch  62 Batch   42/44   train_loss = 0.981\n",
      "Epoch  63 Batch    8/44   train_loss = 0.890\n",
      "Epoch  63 Batch   18/44   train_loss = 0.983\n",
      "Epoch  63 Batch   28/44   train_loss = 0.891\n",
      "Epoch  63 Batch   38/44   train_loss = 0.962\n",
      "Epoch  64 Batch    4/44   train_loss = 0.939\n",
      "Epoch  64 Batch   14/44   train_loss = 0.845\n",
      "Epoch  64 Batch   24/44   train_loss = 0.919\n",
      "Epoch  64 Batch   34/44   train_loss = 0.854\n",
      "Epoch  65 Batch    0/44   train_loss = 0.909\n",
      "Epoch  65 Batch   10/44   train_loss = 0.849\n",
      "Epoch  65 Batch   20/44   train_loss = 0.859\n",
      "Epoch  65 Batch   30/44   train_loss = 0.834\n",
      "Epoch  65 Batch   40/44   train_loss = 0.880\n",
      "Epoch  66 Batch    6/44   train_loss = 0.865\n",
      "Epoch  66 Batch   16/44   train_loss = 0.870\n",
      "Epoch  66 Batch   26/44   train_loss = 0.906\n",
      "Epoch  66 Batch   36/44   train_loss = 0.883\n",
      "Epoch  67 Batch    2/44   train_loss = 0.896\n",
      "Epoch  67 Batch   12/44   train_loss = 0.913\n",
      "Epoch  67 Batch   22/44   train_loss = 0.881\n",
      "Epoch  67 Batch   32/44   train_loss = 0.916\n",
      "Epoch  67 Batch   42/44   train_loss = 0.866\n",
      "Epoch  68 Batch    8/44   train_loss = 0.823\n",
      "Epoch  68 Batch   18/44   train_loss = 0.899\n",
      "Epoch  68 Batch   28/44   train_loss = 0.862\n",
      "Epoch  68 Batch   38/44   train_loss = 0.867\n",
      "Epoch  69 Batch    4/44   train_loss = 0.849\n",
      "Epoch  69 Batch   14/44   train_loss = 0.762\n",
      "Epoch  69 Batch   24/44   train_loss = 0.813\n",
      "Epoch  69 Batch   34/44   train_loss = 0.781\n",
      "Epoch  70 Batch    0/44   train_loss = 0.833\n",
      "Epoch  70 Batch   10/44   train_loss = 0.797\n",
      "Epoch  70 Batch   20/44   train_loss = 0.776\n",
      "Epoch  70 Batch   30/44   train_loss = 0.772\n",
      "Epoch  70 Batch   40/44   train_loss = 0.786\n",
      "Epoch  71 Batch    6/44   train_loss = 0.826\n",
      "Epoch  71 Batch   16/44   train_loss = 0.782\n",
      "Epoch  71 Batch   26/44   train_loss = 0.839\n",
      "Epoch  71 Batch   36/44   train_loss = 0.825\n",
      "Epoch  72 Batch    2/44   train_loss = 0.826\n",
      "Epoch  72 Batch   12/44   train_loss = 0.841\n",
      "Epoch  72 Batch   22/44   train_loss = 0.823\n",
      "Epoch  72 Batch   32/44   train_loss = 0.847\n",
      "Epoch  72 Batch   42/44   train_loss = 0.789\n",
      "Epoch  73 Batch    8/44   train_loss = 0.776\n",
      "Epoch  73 Batch   18/44   train_loss = 0.818\n",
      "Epoch  73 Batch   28/44   train_loss = 0.805\n",
      "Epoch  73 Batch   38/44   train_loss = 0.809\n",
      "Epoch  74 Batch    4/44   train_loss = 0.759\n",
      "Epoch  74 Batch   14/44   train_loss = 0.716\n",
      "Epoch  74 Batch   24/44   train_loss = 0.748\n",
      "Epoch  74 Batch   34/44   train_loss = 0.719\n",
      "Epoch  75 Batch    0/44   train_loss = 0.779\n",
      "Epoch  75 Batch   10/44   train_loss = 0.744\n",
      "Epoch  75 Batch   20/44   train_loss = 0.711\n",
      "Epoch  75 Batch   30/44   train_loss = 0.738\n",
      "Epoch  75 Batch   40/44   train_loss = 0.740\n",
      "Epoch  76 Batch    6/44   train_loss = 0.726\n",
      "Epoch  76 Batch   16/44   train_loss = 0.768\n",
      "Epoch  76 Batch   26/44   train_loss = 0.782\n",
      "Epoch  76 Batch   36/44   train_loss = 0.788\n",
      "Epoch  77 Batch    2/44   train_loss = 0.774\n",
      "Epoch  77 Batch   12/44   train_loss = 0.774\n",
      "Epoch  77 Batch   22/44   train_loss = 0.764\n",
      "Epoch  77 Batch   32/44   train_loss = 0.794\n",
      "Epoch  77 Batch   42/44   train_loss = 0.735\n",
      "Epoch  78 Batch    8/44   train_loss = 0.690\n",
      "Epoch  78 Batch   18/44   train_loss = 0.780\n",
      "Epoch  78 Batch   28/44   train_loss = 0.727\n",
      "Epoch  78 Batch   38/44   train_loss = 0.758\n",
      "Epoch  79 Batch    4/44   train_loss = 0.725\n",
      "Epoch  79 Batch   14/44   train_loss = 0.655\n",
      "Epoch  79 Batch   24/44   train_loss = 0.706\n",
      "Epoch  79 Batch   34/44   train_loss = 0.671\n",
      "Model Trained and Saved\n"
     ]
    }
   ],
   "source": [
    "\"\"\"\n",
    "DON'T MODIFY ANYTHING IN THIS CELL\n",
    "\"\"\"\n",
    "batches = get_batches(int_text, batch_size, seq_length)\n",
    "\n",
    "with tf.Session(graph=train_graph) as sess:\n",
    "    sess.run(tf.global_variables_initializer())\n",
    "\n",
    "    for epoch_i in range(num_epochs):\n",
    "        state = sess.run(initial_state, {input_text: batches[0][0]})\n",
    "        for batch_i, (x, y) in enumerate(batches):\n",
    "            feed = {\n",
    "                input_text: x,\n",
    "                targets: y,\n",
    "                initial_state: state,\n",
    "                lr: learning_rate}\n",
    "            train_loss, state, _ = sess.run([cost, final_state, train_op], feed)\n",
    "\n",
    "            # Show every <show_every_n_batches> batches\n",
    "            if (epoch_i * len(batches) + batch_i) % show_every_n_batches == 0:\n",
    "                print('Epoch {:>3} Batch {:>4}/{}   train_loss = {:.3f}'.format(\n",
    "                    epoch_i,\n",
    "                    batch_i,\n",
    "                    len(batches),\n",
    "                    train_loss))\n",
    "\n",
    "    # Save Model\n",
    "    saver = tf.train.Saver()\n",
    "    saver.save(sess, save_dir)\n",
    "    print('Model Trained and Saved')"
   ]
  },
  {
   "cell_type": "markdown",
   "metadata": {
    "deletable": true,
    "editable": true
   },
   "source": [
    "## Save Parameters\n",
    "Save `seq_length` and `save_dir` for generating a new TV script."
   ]
  },
  {
   "cell_type": "code",
   "execution_count": 48,
   "metadata": {
    "collapsed": false,
    "deletable": true,
    "editable": true
   },
   "outputs": [],
   "source": [
    "\"\"\"\n",
    "DON'T MODIFY ANYTHING IN THIS CELL\n",
    "\"\"\"\n",
    "# Save parameters for checkpoint\n",
    "helper.save_params((seq_length, save_dir))"
   ]
  },
  {
   "cell_type": "markdown",
   "metadata": {
    "deletable": true,
    "editable": true
   },
   "source": [
    "# Checkpoint"
   ]
  },
  {
   "cell_type": "code",
   "execution_count": 49,
   "metadata": {
    "collapsed": false,
    "deletable": true,
    "editable": true
   },
   "outputs": [],
   "source": [
    "\"\"\"\n",
    "DON'T MODIFY ANYTHING IN THIS CELL\n",
    "\"\"\"\n",
    "import tensorflow as tf\n",
    "import numpy as np\n",
    "import helper\n",
    "import problem_unittests as tests\n",
    "\n",
    "_, vocab_to_int, int_to_vocab, token_dict = helper.load_preprocess()\n",
    "seq_length, load_dir = helper.load_params()"
   ]
  },
  {
   "cell_type": "markdown",
   "metadata": {
    "deletable": true,
    "editable": true
   },
   "source": [
    "## Implement Generate Functions\n",
    "### Get Tensors\n",
    "Get tensors from `loaded_graph` using the function [`get_tensor_by_name()`](https://www.tensorflow.org/api_docs/python/tf/Graph#get_tensor_by_name).  Get the tensors using the following names:\n",
    "- \"input:0\"\n",
    "- \"initial_state:0\"\n",
    "- \"final_state:0\"\n",
    "- \"probs:0\"\n",
    "\n",
    "Return the tensors in the following tuple `(InputTensor, InitialStateTensor, FinalStateTensor, ProbsTensor)` "
   ]
  },
  {
   "cell_type": "code",
   "execution_count": 50,
   "metadata": {
    "collapsed": false,
    "deletable": true,
    "editable": true
   },
   "outputs": [
    {
     "name": "stdout",
     "output_type": "stream",
     "text": [
      "Tests Passed\n"
     ]
    }
   ],
   "source": [
    "def get_tensors(loaded_graph):\n",
    "    \"\"\"\n",
    "    Get input, initial state, final state, and probabilities tensor from <loaded_graph>\n",
    "    :param loaded_graph: TensorFlow graph loaded from file\n",
    "    :return: Tuple (InputTensor, InitialStateTensor, FinalStateTensor, ProbsTensor)\n",
    "    \"\"\"\n",
    "    # TODO: Implement Function\n",
    "    inputs=loaded_graph.get_tensor_by_name('input:0')\n",
    "    initial_state=loaded_graph.get_tensor_by_name('initial_state:0')\n",
    "    final_state=loaded_graph.get_tensor_by_name('final_state:0')\n",
    "    probs=loaded_graph.get_tensor_by_name('probs:0')\n",
    "    return inputs,initial_state,final_state,probs\n",
    "    \n",
    "\n",
    "\n",
    "\"\"\"\n",
    "DON'T MODIFY ANYTHING IN THIS CELL THAT IS BELOW THIS LINE\n",
    "\"\"\"\n",
    "tests.test_get_tensors(get_tensors)"
   ]
  },
  {
   "cell_type": "markdown",
   "metadata": {
    "deletable": true,
    "editable": true
   },
   "source": [
    "### Choose Word\n",
    "Implement the `pick_word()` function to select the next word using `probabilities`."
   ]
  },
  {
   "cell_type": "code",
   "execution_count": 51,
   "metadata": {
    "collapsed": false,
    "deletable": true,
    "editable": true
   },
   "outputs": [
    {
     "name": "stdout",
     "output_type": "stream",
     "text": [
      "Tests Passed\n"
     ]
    }
   ],
   "source": [
    "def pick_word(probabilities, int_to_vocab):\n",
    "    \"\"\"\n",
    "    Pick the next word in the generated text\n",
    "    :param probabilities: Probabilites of the next word\n",
    "    :param int_to_vocab: Dictionary of word ids as the keys and words as the values\n",
    "    :return: String of the predicted word\n",
    "    \"\"\"\n",
    "    # TODO: Implement Function\n",
    "    \n",
    "    word_id = np.random.choice(len(probabilities), p=probabilities)\n",
    "    return int_to_vocab[word_id]\n",
    "\n",
    "\"\"\"\n",
    "DON'T MODIFY ANYTHING IN THIS CELL THAT IS BELOW THIS LINE\n",
    "\"\"\"\n",
    "tests.test_pick_word(pick_word)"
   ]
  },
  {
   "cell_type": "markdown",
   "metadata": {
    "deletable": true,
    "editable": true
   },
   "source": [
    "## Generate TV Script\n",
    "This will generate the TV script for you.  Set `gen_length` to the length of TV script you want to generate."
   ]
  },
  {
   "cell_type": "code",
   "execution_count": 52,
   "metadata": {
    "collapsed": false,
    "deletable": true,
    "editable": true
   },
   "outputs": [
    {
     "name": "stdout",
     "output_type": "stream",
     "text": [
      "moe_szyslak: ya know, i used to wrestle under the try.\n",
      "carl_carlson: my number's twenty-two. no reason. just don't get it, moe.\n",
      "moe_szyslak:(surprised) i wish i ever has that\" alcohol could\" the sweet woman was. if derek jeter can do my heart wants to me. to me. you should hear your name is so soon,\" was kinda from my on amazing on a movie. but they were gonna stop playing?\n",
      "young_marge: homer, i got to work it.\n",
      "moe_szyslak: okay, how come on, you guys can just got the money, anyway? is he any other all this one of a(air) well it is.\n",
      "\n",
      "\n",
      "moe_szyslak: okay, i'm looking for--\n",
      "marge_simpson: tell that call to step outside?\n",
      "homer_simpson: that's inspiring.\n",
      "homer_simpson: and you should not fail. nobody gives the money and lisa like homer on the spot on my bar?\n",
      "carl_carlson: people who get shot some one.\n",
      "moe_szyslak:\" : thanks.\n",
      "lenny_leonard: what about the?\n"
     ]
    }
   ],
   "source": [
    "gen_length = 200\n",
    "# homer_simpson, moe_szyslak, or Barney_Gumble\n",
    "prime_word = 'moe_szyslak'\n",
    "\n",
    "\"\"\"\n",
    "DON'T MODIFY ANYTHING IN THIS CELL THAT IS BELOW THIS LINE\n",
    "\"\"\"\n",
    "loaded_graph = tf.Graph()\n",
    "with tf.Session(graph=loaded_graph) as sess:\n",
    "    # Load saved model\n",
    "    loader = tf.train.import_meta_graph(load_dir + '.meta')\n",
    "    loader.restore(sess, load_dir)\n",
    "\n",
    "    # Get Tensors from loaded model\n",
    "    input_text, initial_state, final_state, probs = get_tensors(loaded_graph)\n",
    "\n",
    "    # Sentences generation setup\n",
    "    gen_sentences = [prime_word + ':']\n",
    "    prev_state = sess.run(initial_state, {input_text: np.array([[1]])})\n",
    "\n",
    "    # Generate sentences\n",
    "    for n in range(gen_length):\n",
    "        # Dynamic Input\n",
    "        dyn_input = [[vocab_to_int[word] for word in gen_sentences[-seq_length:]]]\n",
    "        dyn_seq_length = len(dyn_input[0])\n",
    "\n",
    "        # Get Prediction\n",
    "        probabilities, prev_state = sess.run(\n",
    "            [probs, final_state],\n",
    "            {input_text: dyn_input, initial_state: prev_state})\n",
    "        \n",
    "        pred_word = pick_word(probabilities[dyn_seq_length-1], int_to_vocab)\n",
    "\n",
    "        gen_sentences.append(pred_word)\n",
    "    \n",
    "    # Remove tokens\n",
    "    tv_script = ' '.join(gen_sentences)\n",
    "    for key, token in token_dict.items():\n",
    "        ending = ' ' if key in ['\\n', '(', '\"'] else ''\n",
    "        tv_script = tv_script.replace(' ' + token.lower(), key)\n",
    "    tv_script = tv_script.replace('\\n ', '\\n')\n",
    "    tv_script = tv_script.replace('( ', '(')\n",
    "        \n",
    "    print(tv_script)"
   ]
  },
  {
   "cell_type": "code",
   "execution_count": null,
   "metadata": {
    "collapsed": false
   },
   "outputs": [],
   "source": []
  },
  {
   "cell_type": "markdown",
   "metadata": {
    "deletable": true,
    "editable": true
   },
   "source": [
    "# The TV Script is Nonsensical\n",
    "It's ok if the TV script doesn't make any sense.  We trained on less than a megabyte of text.  In order to get good results, you'll have to use a smaller vocabulary or get more data.  Luckly there's more data!  As we mentioned in the begging of this project, this is a subset of [another dataset](https://www.kaggle.com/wcukierski/the-simpsons-by-the-data).  We didn't have you train on all the data, because that would take too long.  However, you are free to train your neural network on all the data.  After you complete the project, of course.\n",
    "# Submitting This Project\n",
    "When submitting this project, make sure to run all the cells before saving the notebook. Save the notebook file as \"dlnd_tv_script_generation.ipynb\" and save it as a HTML file under \"File\" -> \"Download as\". Include the \"helper.py\" and \"problem_unittests.py\" files in your submission."
   ]
  }
 ],
 "metadata": {
  "anaconda-cloud": {},
  "kernelspec": {
   "display_name": "Python [conda root]",
   "language": "python",
   "name": "conda-root-py"
  },
  "language_info": {
   "codemirror_mode": {
    "name": "ipython",
    "version": 3
   },
   "file_extension": ".py",
   "mimetype": "text/x-python",
   "name": "python",
   "nbconvert_exporter": "python",
   "pygments_lexer": "ipython3",
   "version": "3.5.2"
  }
 },
 "nbformat": 4,
 "nbformat_minor": 0
}
